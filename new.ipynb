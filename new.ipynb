{
 "cells": [
  {
   "cell_type": "code",
   "execution_count": 259,
   "metadata": {},
   "outputs": [
    {
     "name": "stdout",
     "output_type": "stream",
     "text": [
      "[[1, 5], [2, 3], [2, 4], [3, 2], [4, 2], [5, 3], [5, 5]]\n",
      "[(3, 2), (2, 4)]\n",
      "[(2, 4), (5, 3)]\n",
      "[(2, 3), (5, 5)]\n",
      "[(1, 5), (2, 3)]\n",
      "[(4, 2), (1, 5)]\n"
     ]
    }
   ],
   "source": [
    "file = open(\"FWB.txt\", 'r')\n",
    "\n",
    "with open(\"FWB.txt\", 'r') as file:\n",
    "    start = 0\n",
    "    for line in file:\n",
    "        if start == 0:\n",
    "        #if start != 100:\n",
    "            values = line.strip().split(',')\n",
    "            values = [int(x) for x in values]\n",
    "            \n",
    "            tmp_l = []\n",
    "            for x in range(0, len(values), 2):\n",
    "                tmp = [values[x], values[x+1]]\n",
    "                tmp_l.append(tmp)\n",
    "    \n",
    "            node_list = tmp_l\n",
    "            start += 1\n",
    "            print(node_list)  \n",
    "            \n",
    "        else:\n",
    "            values = line.strip().split('. ')[1:]\n",
    "            values = values[0].strip().split(',')\n",
    "            values = [int(x) for x in values]\n",
    "            \n",
    "            tmp_l = []\n",
    "            for x in range(0, len(values), 2):\n",
    "                tmp = (values[x], values[x+1])\n",
    "                tmp_l.append(tmp)\n",
    "    \n",
    "            globals()[f'q{start}'] = tmp_l\n",
    "    \n",
    "            print(globals()[f'q{start}']) \n",
    "            start += 1"
   ]
  },
  {
   "cell_type": "code",
   "execution_count": 264,
   "metadata": {},
   "outputs": [
    {
     "name": "stdout",
     "output_type": "stream",
     "text": [
      "경로: [(4, 2), (3, 2), (2, 3), (2, 4), (1, 5)]\n"
     ]
    }
   ],
   "source": [
    "from collections import deque\n",
    "\n",
    "def bfs_maze(start, target, maze):\n",
    "    rows = len(maze)\n",
    "    cols = len(maze[0])\n",
    "    directions = [(1, 0), (-1, 0), (0, 1), (0, -1), (1, 1), (-1, -1), (1, -1), (-1, 1)]\n",
    "    queue = deque([(start, [])])\n",
    "    visited = set()\n",
    "\n",
    "    while queue:\n",
    "        current, path = queue.popleft()\n",
    "        x, y = current\n",
    "\n",
    "        if current == target:\n",
    "            return path + [current]\n",
    "\n",
    "        visited.add(current)\n",
    "\n",
    "        for dx, dy in directions:\n",
    "            nx, ny = x + dx, y + dy\n",
    "\n",
    "            if 1 <= nx <= rows and 1 <= ny <= cols and maze[nx - 1][ny - 1] == 1 and (nx, ny) not in visited:\n",
    "                queue.append(((nx, ny), path + [current]))\n",
    "\n",
    "    return None\n",
    "\n",
    "maze = [[0] * 5 for _ in range(5)]\n",
    "obstacles = [[1, 5], [2, 3], [2, 4], [3, 2], [4, 2], [5, 3], [5, 5]]\n",
    "\n",
    "for obstacle in obstacles:\n",
    "    x, y = obstacle\n",
    "    maze[x - 1][y - 1] = 1\n",
    "\n",
    "start = q5[0]\n",
    "target = q5[1]\n",
    "\n",
    "path = bfs_maze(start, target, maze)\n",
    "if path:\n",
    "    print(\"경로:\", path)\n",
    "else:\n",
    "    print(\"경로가 존재하지 않습니다.\")\n"
   ]
  },
  {
   "cell_type": "code",
   "execution_count": null,
   "metadata": {},
   "outputs": [],
   "source": []
  },
  {
   "cell_type": "code",
   "execution_count": 299,
   "metadata": {},
   "outputs": [],
   "source": [
    "from collections import deque\n",
    "\n",
    "def bfs_maze(start, target, maze):\n",
    "    rows = len(maze)\n",
    "    cols = len(maze[0])\n",
    "    directions = [(1, 0), (-1, 0), (0, 1), (0, -1), (1, 1), (-1, -1), (1, -1), (-1, 1)]\n",
    "    queue = deque([(start, [])])\n",
    "    visited = set()\n",
    "\n",
    "    while queue:\n",
    "        current, path = queue.popleft()\n",
    "        x, y = current\n",
    "\n",
    "        if current == target:\n",
    "            return path + [current]\n",
    "\n",
    "        visited.add(current)\n",
    "\n",
    "        for dx, dy in directions:\n",
    "            nx, ny = x + dx, y + dy\n",
    "\n",
    "            if 1 <= nx <= rows and 1 <= ny <= cols and maze[nx - 1][ny - 1] == 1 and (nx, ny) not in visited:\n",
    "                queue.append(((nx, ny), path + [current]))\n",
    "\n",
    "    return None\n",
    "\n",
    "######################## Start #########################\n",
    "\n",
    "file = input('파일의 경로를 입력하세요(FTW_input.txt) : ')\n",
    "\n",
    "with open(file, 'r') as file:\n",
    "    start = 0\n",
    "    question_list = []\n",
    "    for line in file:\n",
    "        if start == 0:\n",
    "        #if start != 100:\n",
    "            values = line.strip().split(',')\n",
    "            values = [int(x) for x in values]\n",
    "            \n",
    "            tmp_l = []\n",
    "            for x in range(0, len(values), 2):\n",
    "                tmp = [values[x], values[x+1]]\n",
    "                tmp_l.append(tmp)\n",
    "    \n",
    "            node_list = tmp_l\n",
    "            start += 1\n",
    "            #print(node_list)  \n",
    "            \n",
    "        else:\n",
    "            values = line.strip().split('. ')[1:]\n",
    "            values = values[0].strip().split(',')\n",
    "            values = [int(x) for x in values]\n",
    "            \n",
    "            tmp_l = []\n",
    "            for x in range(0, len(values), 2):\n",
    "                tmp = (values[x], values[x+1])\n",
    "                tmp_l.append(tmp)\n",
    "    \n",
    "            globals()[f'q{start}'] = tmp_l\n",
    "            question_list.append(globals()[f'q{start}'])\n",
    "    \n",
    "            #print(globals()[f'q{start}']) \n",
    "            start += 1\n",
    "        \n",
    "\n",
    "maze = [[0] * max([max(x) for x in node_list]) for _ in range(max([max(x) for x in node_list]))]\n",
    "obstacles = node_list\n",
    "\n",
    "for obstacle in obstacles:\n",
    "    x, y = obstacle\n",
    "    maze[x - 1][y - 1] = 1\n",
    "\n",
    "write_file = open('FTW_output.txt', 'w')\n",
    "\n",
    "for idx, question in enumerate(question_list):\n",
    "    start = question[0]\n",
    "    target = question[1]\n",
    "    path = bfs_maze(start, target, maze)\n",
    "    if path:\n",
    "        write_file.write(f\"{idx+1}. {','.join([','.join(map(str, x)) for x in path])}\\n\")\n",
    "    else:\n",
    "        write_file.write(f\"{idx+1}. NONE\\n\")\n",
    "\n",
    "write_file.close()\n"
   ]
  },
  {
   "cell_type": "code",
   "execution_count": 295,
   "metadata": {},
   "outputs": [
    {
     "data": {
      "text/plain": [
       "'2,2,3,3'"
      ]
     },
     "execution_count": 295,
     "metadata": {},
     "output_type": "execute_result"
    }
   ],
   "source": [
    "','.join([','.join(map(str, x)) for x in path])"
   ]
  },
  {
   "cell_type": "code",
   "execution_count": 284,
   "metadata": {},
   "outputs": [
    {
     "data": {
      "text/plain": [
       "[[(3, 2), (2, 4)],\n",
       " [(2, 4), (5, 3)],\n",
       " [(2, 3), (5, 5)],\n",
       " [(1, 5), (2, 3)],\n",
       " [(4, 2), (1, 5)]]"
      ]
     },
     "execution_count": 284,
     "metadata": {},
     "output_type": "execute_result"
    }
   ],
   "source": [
    "question_list"
   ]
  },
  {
   "cell_type": "code",
   "execution_count": 273,
   "metadata": {},
   "outputs": [
    {
     "data": {
      "text/plain": [
       "5"
      ]
     },
     "execution_count": 273,
     "metadata": {},
     "output_type": "execute_result"
    }
   ],
   "source": [
    "max([max(x) for x in node_list])"
   ]
  }
 ],
 "metadata": {
  "kernelspec": {
   "display_name": "quant",
   "language": "python",
   "name": "python3"
  },
  "language_info": {
   "codemirror_mode": {
    "name": "ipython",
    "version": 3
   },
   "file_extension": ".py",
   "mimetype": "text/x-python",
   "name": "python",
   "nbconvert_exporter": "python",
   "pygments_lexer": "ipython3",
   "version": "3.8.13"
  },
  "orig_nbformat": 4
 },
 "nbformat": 4,
 "nbformat_minor": 2
}
