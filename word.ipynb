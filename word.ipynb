{
 "cells": [
  {
   "cell_type": "code",
   "execution_count": 178,
   "metadata": {},
   "outputs": [
    {
     "name": "stdout",
     "output_type": "stream",
     "text": [
      "*** B ***\n",
      "*** E ***\n",
      "0 ('B', 0)\n",
      "*** S ***\n",
      "0 ('B', 0)\n",
      "1 ('E', 1)\n",
      "*** T ***\n",
      "0 ('B', 0)\n",
      "1 ('E', 1)\n",
      "2 ('S', 2)\n",
      "*** A ***\n",
      "0 ('B', 0)\n",
      "*** L ***\n",
      "0 ('A', 1)\n",
      "1 ('B', 0)\n",
      "2 ('E', 1)\n",
      "3 ('S', 2)\n",
      "*** L ***\n",
      "0 ('A', 1)\n",
      "1 ('B', 0)\n",
      "2 ('E', 1)\n",
      "3 ('L', 3)\n",
      "[('B', 0), ('E', 1), ('S', 2), ('T', 3), ('A', 1), ('L', 3), ('L', 4)]\n"
     ]
    }
   ],
   "source": [
    "def classify_word(word):\n",
    "    result = []\n",
    "    classifications = []\n",
    "    \n",
    "    for char in word:\n",
    "        print(f'*** {char} ***')\n",
    "        \n",
    "        if not classifications:\n",
    "            score = 0\n",
    "            classifications.append((char, score))\n",
    "            result.append((char, score))\n",
    "            \n",
    "        else:\n",
    "            inserted = False\n",
    "            \n",
    "            for i, (c, s) in enumerate(classifications):\n",
    "                print(i, (c, s))\n",
    "                if char < c:\n",
    "                    score = 0\n",
    "                    if i == 0 or classifications[i-1][0] != char:\n",
    "                        score = s + 1\n",
    "                    classifications.insert(i, (char, score))\n",
    "                    result.append((char, score))\n",
    "                    inserted = True\n",
    "                    break\n",
    "                elif char == c:\n",
    "                    score = 0\n",
    "                    if i > 0 and classifications[i-1][0] == char:\n",
    "                        score = classifications[i-1][1] + s\n",
    "                    elif i < len(classifications)-1 and classifications[i+1][0] == char:\n",
    "                        score = s + classifications[i+1][1]\n",
    "                    elif i > 0 and classifications[i-1][0] != char:\n",
    "                        score = s + 1\n",
    "                    classifications.insert(i, (char, score))\n",
    "                    result.append((char, score))\n",
    "                    inserted = True\n",
    "                    break\n",
    "                \n",
    "            if not inserted:\n",
    "                score = 0\n",
    "                if classifications[-1][0] != char:\n",
    "                    score = classifications[-1][1] + 1\n",
    "                classifications.append((char, score))\n",
    "                result.append((char, score))\n",
    "        \n",
    "        # classifications = sorted(classifications, key=lambda x: (x[0], -x[1]))\n",
    "\n",
    "    return result\n",
    "\n",
    "word = 'BESTALL'\n",
    "classification_result = classify_word(word)\n",
    "print(classification_result)\n"
   ]
  },
  {
   "cell_type": "code",
   "execution_count": 179,
   "metadata": {},
   "outputs": [
    {
     "data": {
      "text/plain": [
       "[('A', 1), ('B', 0), ('E', 1), ('L', 4), ('L', 3), ('S', 2), ('T', 3)]"
      ]
     },
     "execution_count": 179,
     "metadata": {},
     "output_type": "execute_result"
    }
   ],
   "source": [
    "sorted(classification_result, key=lambda x: (x[0], -x[1]))"
   ]
  },
  {
   "cell_type": "code",
   "execution_count": 243,
   "metadata": {},
   "outputs": [
    {
     "name": "stdout",
     "output_type": "stream",
     "text": [
      "[('A', 1), ('B', 0), ('E', 1), ('L', 4), ('L', 3), ('S', 2), ('T', 3)]\n"
     ]
    },
    {
     "data": {
      "text/plain": [
       "[('B', 0), ('A', 1), ('E', 1), ('S', 2), ('L', 3), ('T', 3), ('L', 4)]"
      ]
     },
     "execution_count": 243,
     "metadata": {},
     "output_type": "execute_result"
    }
   ],
   "source": [
    "def classify_word(word):\n",
    "    result = []\n",
    "    classifications = []\n",
    "\n",
    "    for char in word:\n",
    "        \n",
    "        \n",
    "        if not classifications:\n",
    "            score = 0\n",
    "            classifications.append((char, score))\n",
    "            result.append((char, score))\n",
    "            \n",
    "        else:\n",
    "            inserted = False\n",
    "            \n",
    "            for i, (c, s) in enumerate(classifications):\n",
    "                \n",
    "                if char < c:\n",
    "                    score = 0\n",
    "                    if i == 0 or classifications[i-1][0] != char:\n",
    "                        if i-1 >= 0:\n",
    "                            new_idx = i-1\n",
    "                            new_score = classifications[new_idx][1]\n",
    "                        else:\n",
    "                            new_score = 1\n",
    "                        score = s + new_score\n",
    "                    classifications.insert(i, (char, score))\n",
    "                    result.append((char, score))\n",
    "                    inserted = True\n",
    "                    break\n",
    "                elif char == c:\n",
    "                    score = 0\n",
    "                    if i > 0 and classifications[i-1][0] == char:\n",
    "                        score = classifications[i-1][1] + s\n",
    "                    elif i < len(classifications)-1 and classifications[i+1][0] == char:\n",
    "                        score = s + classifications[i+1][1]\n",
    "                    elif i > 0 and classifications[i-1][0] != char:\n",
    "                        score = s + 1\n",
    "                    classifications.insert(i, (char, score))\n",
    "                    result.append((char, score))\n",
    "                    inserted = True\n",
    "                    break\n",
    "                \n",
    "            if not inserted:\n",
    "                score = 0\n",
    "                if classifications[-1][0] != char:\n",
    "                    score = classifications[-1][1] + 1\n",
    "                classifications.append((char, score))\n",
    "                result.append((char, score))\n",
    "        \n",
    "        classifications = sorted(classifications, key=lambda x: (x[0], -x[1]))\n",
    "        result = sorted(result, key=lambda x: (x[0], -x[1]))\n",
    "        \n",
    "    return result\n",
    "\n",
    "word = 'BESTALL'\n",
    "classification_result = classify_word(word)\n",
    "print(classification_result)\n",
    "sorted(classification_result, key=lambda x: (x[1], x[0]))"
   ]
  },
  {
   "cell_type": "code",
   "execution_count": 248,
   "metadata": {},
   "outputs": [],
   "source": [
    "def classify_word(word):\n",
    "    result = []\n",
    "    classifications = []\n",
    "\n",
    "    for char in word:\n",
    "        \n",
    "        \n",
    "        if not classifications:\n",
    "            score = 0\n",
    "            classifications.append((char, score))\n",
    "            result.append((char, score))\n",
    "            \n",
    "        else:\n",
    "            inserted = False\n",
    "            \n",
    "            for i, (c, s) in enumerate(classifications):\n",
    "                \n",
    "                if char < c:\n",
    "                    score = 0\n",
    "                    if i == 0 or classifications[i-1][0] != char:\n",
    "                        if i-1 >= 0:\n",
    "                            new_idx = i-1\n",
    "                            new_score = classifications[new_idx][1]\n",
    "                        else:\n",
    "                            new_score = 1\n",
    "                        score = s + new_score\n",
    "                    classifications.insert(i, (char, score))\n",
    "                    result.append((char, score))\n",
    "                    inserted = True\n",
    "                    break\n",
    "                elif char == c:\n",
    "                    score = 0\n",
    "                    if i > 0 and classifications[i-1][0] == char:\n",
    "                        score = classifications[i-1][1] + s\n",
    "                    elif i < len(classifications)-1 and classifications[i+1][0] == char:\n",
    "                        score = s + classifications[i+1][1]\n",
    "                    elif i > 0 and classifications[i-1][0] != char:\n",
    "                        score = s + 1\n",
    "                    classifications.insert(i, (char, score))\n",
    "                    result.append((char, score))\n",
    "                    inserted = True\n",
    "                    break\n",
    "                \n",
    "            if not inserted:\n",
    "                score = 0\n",
    "                if classifications[-1][0] != char:\n",
    "                    score = classifications[-1][1] + 1\n",
    "                classifications.append((char, score))\n",
    "                result.append((char, score))\n",
    "        \n",
    "        classifications = sorted(classifications, key=lambda x: (x[0], -x[1]))\n",
    "        result = sorted(result, key=lambda x: (x[0], -x[1]))\n",
    "        \n",
    "    return result\n",
    "\n",
    "\n",
    "write_file = open('BWP_output.txt', 'w')\n",
    "\n",
    "with open('BWP_input.txt', 'r') as file:\n",
    "    \n",
    "    for word in file:\n",
    "    \n",
    "        classification_result = classify_word(word)\n",
    "        write_file.write(''.join([''.join(map(str, x[0])) for x in sorted(classification_result, key=lambda x: (x[1], x[0]))]))\n",
    "        break\n",
    "write_file.close()\n",
    "\n"
   ]
  },
  {
   "cell_type": "code",
   "execution_count": null,
   "metadata": {},
   "outputs": [],
   "source": []
  },
  {
   "cell_type": "code",
   "execution_count": 249,
   "metadata": {},
   "outputs": [
    {
     "data": {
      "text/plain": [
       "'BAE\\nSLTL'"
      ]
     },
     "execution_count": 249,
     "metadata": {},
     "output_type": "execute_result"
    }
   ],
   "source": [
    "''.join([''.join(map(str, x[0])) for x in sorted(classification_result, key=lambda x: (x[1], x[0]))])"
   ]
  },
  {
   "cell_type": "code",
   "execution_count": 246,
   "metadata": {},
   "outputs": [
    {
     "data": {
      "text/plain": [
       "'ETHISTTYEISASS'"
      ]
     },
     "execution_count": 246,
     "metadata": {},
     "output_type": "execute_result"
    }
   ],
   "source": [
    "''.join([''.join(map(str, x[0])) for x in sorted(classification_result, key=lambda x: (x[1], x[0]))])"
   ]
  },
  {
   "cell_type": "code",
   "execution_count": 240,
   "metadata": {},
   "outputs": [],
   "source": [
    "\n",
    "write_file = open('BWP_output.txt', 'w')\n",
    "\n",
    "with open('BWP_input.txt', 'r') as file:\n",
    "    \n",
    "    for word in file:\n",
    "    \n",
    "        classification_result = classify_word(word)\n",
    "        write_file.write(''.join([''.join(map(str, x[0])) for x in sorted(classification_result, key=lambda x: (x[1], x[0]))]))\n",
    "        \n",
    "write_file.close()\n",
    "\n"
   ]
  },
  {
   "cell_type": "code",
   "execution_count": 224,
   "metadata": {},
   "outputs": [
    {
     "data": {
      "text/plain": [
       "['I', 'A', 'I', 'N', 'N', 'O', 'N', 'O', 'V', 'T']"
      ]
     },
     "execution_count": 224,
     "metadata": {},
     "output_type": "execute_result"
    }
   ],
   "source": [
    "[x[0] +  for x in sorted(classification_result, key=lambda x: (x[1], x[0]))]"
   ]
  },
  {
   "cell_type": "code",
   "execution_count": 37,
   "metadata": {},
   "outputs": [
    {
     "data": {
      "text/plain": [
       "67"
      ]
     },
     "execution_count": 37,
     "metadata": {},
     "output_type": "execute_result"
    }
   ],
   "source": [
    "ord('C')"
   ]
  }
 ],
 "metadata": {
  "kernelspec": {
   "display_name": "quant",
   "language": "python",
   "name": "python3"
  },
  "language_info": {
   "codemirror_mode": {
    "name": "ipython",
    "version": 3
   },
   "file_extension": ".py",
   "mimetype": "text/x-python",
   "name": "python",
   "nbconvert_exporter": "python",
   "pygments_lexer": "ipython3",
   "version": "3.8.13"
  },
  "orig_nbformat": 4
 },
 "nbformat": 4,
 "nbformat_minor": 2
}
